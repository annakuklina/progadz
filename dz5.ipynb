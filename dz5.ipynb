{
 "cells": [
  {
   "cell_type": "code",
   "execution_count": 42,
   "metadata": {},
   "outputs": [],
   "source": [
    "import random\n",
    " \n",
    "class student:\n",
    " \n",
    "    def __init__(self):                # начальный уровень\n",
    "        self.bot = 20                  # ресурсы\n",
    "        self.energy = 100              \n",
    "        self.money = 1000\n",
    "        self.coffee = 0\n",
    "        self.mood = 20\n",
    "        self.time = 0                  # счетчик ходов. после 20 ходов проверяем, повысился ли уровень               \n",
    "        self.level = 1                 # счетчик уровня\n",
    " \n",
    " \n",
    "    def hell_where_i_am(self):             # функция показывает текущее состояние ресурсов\n",
    "        print(\"bot: \", self.bot)\n",
    "        print(\"energy: \", self.energy)\n",
    "        print(\"money: \", self.money)\n",
    "        print(\"coffee: \", self.coffee)\n",
    "        print(\"mood: \", self.mood)\n",
    " \n",
    " \n",
    "    def otchisleno(self):\n",
    "        if (self.bot > 0 and self.energy > 0 and self.money > 0 and self.coffee >= 0 and self.mood > 0):   # если ресурсов мало, вы отчислены\n",
    "            print(\"сегодня вас не отчислили...\")\n",
    "        else:\n",
    "            print(\"очень жаль, вы были отчислены. попробуйте перепоступить?\")\n",
    "        self.time += 1                           # так как вызываем функцию \"отчислено\" в конце любого действия, сюда удобно поместить счетчик действий\n",
    "        if self.time == 10:                      # через 20 дней подводим итоги, смотрим, повысился ли уровень\n",
    "            self.time -= 10                      # сбрасываем счетчик\n",
    "            if (self.bot >= 40* self.level):    # если хорошо поботали, повышаем уровень\n",
    "                self.level += 1\n",
    "                print('Вы повысили свой уровень. Теперь ваш уровень: ', self.level)\n",
    "        self.hell_where_i_am()\n",
    " \n",
    "    def shout_halyava(self):                # \"крикнуть халява\" -- влияет на успеваемость произвольным образом\n",
    "        self.energy -= 3\n",
    "        self.mood += 3\n",
    "        val = int(random.random() * 10 - 4)\n",
    "        self.bot += val\n",
    "        self.otchisleno()\n",
    " \n",
    " \n",
    "    def buy_coffee(self):      # конвертация денег в кофе\n",
    "        self.money -= 20\n",
    "        self.coffee += 1\n",
    "        self.otchisleno()\n",
    " \n",
    " \n",
    "    def work_hard(self):       # конвертация энергии(сна) в деньги\n",
    "        self.energy -= 20\n",
    "        self.money += 150\n",
    "        self.mood -= 10\n",
    "        self.otchisleno()\n",
    " \n",
    " \n",
    "    def sleep(self):           # конвертация бота в энергию (сон)\n",
    "        self.bot -= 7\n",
    "        self.energy += 20\n",
    "        self.otchisleno()\n",
    " \n",
    " \n",
    "    def botay_hard(self, coffee=0):        # конвертирует настроение и энергию в бот. можно улучшить качество бота с помощью кофе, но если выпить слишком много...\n",
    "        self.bot += int(20 * (1 + 0.6 * coffee))\n",
    "        self.mood += -5 + 2 * coffee\n",
    "        self.energy -= 15\n",
    "        self.coffee -= coffee\n",
    "        if (coffee >= 5):\n",
    "            print(\"Передозировка кофеином: вы слегли в больничку. Платите деняк...\")\n",
    "            self.money -= 200\n",
    "            self.mood -= 10\n",
    "        self.otchisleno()\n",
    "        \n",
    "    \n",
    "    def drink_beer_with_friends(self):\n",
    "        self.money -= 80\n",
    "        self.mood += 20\n",
    "        self.energy += 10\n",
    "        self.otchisleno()"
   ]
  },
  {
   "cell_type": "markdown",
   "metadata": {},
   "source": [
    "Попробуем запустить наш симулятор студента. Выведем начальное положение."
   ]
  },
  {
   "cell_type": "code",
   "execution_count": 43,
   "metadata": {},
   "outputs": [
    {
     "name": "stdout",
     "output_type": "stream",
     "text": [
      "bot:  20\n",
      "energy:  100\n",
      "money:  1000\n",
      "coffee:  0\n",
      "mood:  20\n"
     ]
    }
   ],
   "source": [
    "anna = student()\n",
    "anna.hell_where_i_am()"
   ]
  },
  {
   "cell_type": "markdown",
   "metadata": {},
   "source": [
    "Попробуем купить кофе и заботать все за один день:"
   ]
  },
  {
   "cell_type": "code",
   "execution_count": 44,
   "metadata": {},
   "outputs": [
    {
     "name": "stdout",
     "output_type": "stream",
     "text": [
      "сегодня вас не отчислили...\n",
      "bot:  20\n",
      "energy:  100\n",
      "money:  980\n",
      "coffee:  1\n",
      "mood:  20\n",
      "сегодня вас не отчислили...\n",
      "bot:  20\n",
      "energy:  100\n",
      "money:  960\n",
      "coffee:  2\n",
      "mood:  20\n",
      "сегодня вас не отчислили...\n",
      "bot:  20\n",
      "energy:  100\n",
      "money:  940\n",
      "coffee:  3\n",
      "mood:  20\n",
      "сегодня вас не отчислили...\n",
      "bot:  20\n",
      "energy:  100\n",
      "money:  920\n",
      "coffee:  4\n",
      "mood:  20\n",
      "сегодня вас не отчислили...\n",
      "bot:  20\n",
      "energy:  100\n",
      "money:  900\n",
      "coffee:  5\n",
      "mood:  20\n",
      "Передозировка кофеином: вы слегли в больничку. Платите деняк...\n",
      "сегодня вас не отчислили...\n",
      "bot:  100\n",
      "energy:  85\n",
      "money:  700\n",
      "coffee:  0\n",
      "mood:  15\n"
     ]
    }
   ],
   "source": [
    "for _ in range (5):\n",
    "    anna.buy_coffee()\n",
    "anna.botay_hard(5)"
   ]
  },
  {
   "cell_type": "markdown",
   "metadata": {},
   "source": [
    "Все получилось, и функция работает. Попробуем позвать халяву."
   ]
  },
  {
   "cell_type": "code",
   "execution_count": 45,
   "metadata": {},
   "outputs": [
    {
     "name": "stdout",
     "output_type": "stream",
     "text": [
      "сегодня вас не отчислили...\n",
      "bot:  97\n",
      "energy:  82\n",
      "money:  700\n",
      "coffee:  0\n",
      "mood:  18\n"
     ]
    }
   ],
   "source": [
    "anna.shout_halyava()"
   ]
  },
  {
   "cell_type": "markdown",
   "metadata": {},
   "source": [
    "Возможно, это помогло, а возможно -- нет. Халява -- сложная штука (а функция -- нет, она работает всегда)."
   ]
  },
  {
   "cell_type": "markdown",
   "metadata": {},
   "source": [
    "Об успеваемости позаботились, время поработать и поспать:"
   ]
  },
  {
   "cell_type": "code",
   "execution_count": 46,
   "metadata": {},
   "outputs": [
    {
     "name": "stdout",
     "output_type": "stream",
     "text": [
      "сегодня вас не отчислили...\n",
      "bot:  97\n",
      "energy:  62\n",
      "money:  850\n",
      "coffee:  0\n",
      "mood:  8\n",
      "сегодня вас не отчислили...\n",
      "bot:  90\n",
      "energy:  82\n",
      "money:  850\n",
      "coffee:  0\n",
      "mood:  8\n"
     ]
    }
   ],
   "source": [
    "anna.work_hard()\n",
    "anna.sleep()"
   ]
  },
  {
   "cell_type": "markdown",
   "metadata": {},
   "source": [
    "Настроение близится к нулю, и даже две правильно работающие функции не осчастливили нас. Время пойти попить пивка с друзьями:"
   ]
  },
  {
   "cell_type": "code",
   "execution_count": 47,
   "metadata": {},
   "outputs": [
    {
     "name": "stdout",
     "output_type": "stream",
     "text": [
      "сегодня вас не отчислили...\n",
      "Вы повысили свой уровень. Теперь ваш уровень:  2\n",
      "bot:  90\n",
      "energy:  92\n",
      "money:  770\n",
      "coffee:  0\n",
      "mood:  28\n"
     ]
    }
   ],
   "source": [
    "anna.drink_beer_with_friends()"
   ]
  },
  {
   "cell_type": "markdown",
   "metadata": {},
   "source": [
    "Ура, мы повысили уровень! Хочется стать еще умнее, нужно поботать..."
   ]
  },
  {
   "cell_type": "code",
   "execution_count": 48,
   "metadata": {},
   "outputs": [
    {
     "name": "stdout",
     "output_type": "stream",
     "text": [
      "очень жаль, вы были отчислены. попробуйте перепоступить?\n",
      "bot:  122\n",
      "energy:  77\n",
      "money:  770\n",
      "coffee:  -1\n",
      "mood:  25\n"
     ]
    }
   ],
   "source": [
    "anna.botay_hard(1)"
   ]
  },
  {
   "cell_type": "markdown",
   "metadata": {},
   "source": [
    "О нет! У нас было недостаточно мозгов, чтобы уследить за балансом кофе. Теперь Анна отчислена. Стоит ли попробовать еще раз?"
   ]
  }
 ],
 "metadata": {
  "kernelspec": {
   "display_name": "Python 3",
   "language": "python",
   "name": "python3"
  },
  "language_info": {
   "codemirror_mode": {
    "name": "ipython",
    "version": 3
   },
   "file_extension": ".py",
   "mimetype": "text/x-python",
   "name": "python",
   "nbconvert_exporter": "python",
   "pygments_lexer": "ipython3",
   "version": "3.7.3"
  }
 },
 "nbformat": 4,
 "nbformat_minor": 2
}

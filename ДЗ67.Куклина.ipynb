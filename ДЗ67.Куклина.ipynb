{
 "cells": [
  {
   "cell_type": "markdown",
   "metadata": {},
   "source": [
    "# Задача 1\n",
    "\n",
    "Реализуйте свой класс Complex для комплексных чисел, аналогично встроенной реализации complex: 1. Добавьте конструктор класса 2. Реализуйте операции проверки на равенство, сложения, вычитания, произведения и деления комплексных чисел (eq, add, sub, mul, truediv) 3. Реализуйте операцию модуля (abs, вызываемую как |c|) 4. Оба класса должны давать осмысленный вывод как при print, так и просто при вызове в ячейке\n",
    "\n",
    "p.s. обязательно использовать магические методы (см лабу)"
   ]
  },
  {
   "cell_type": "code",
   "execution_count": 59,
   "metadata": {},
   "outputs": [],
   "source": [
    "class Complex:\n",
    "    \n",
    "    def __init__(self, x = 0, y = 0):           # конструктор класса\n",
    "        self.re = x                  # действительная часть\n",
    "        self.im = y                 # мнимая часть\n",
    "        \n",
    "    def __eq__(self, other):\n",
    "        if self.re == other.re and self.im == other.im:  # числа равны при совпадающих координатах\n",
    "            return True\n",
    "        else:\n",
    "            return False\n",
    "            \n",
    "    def __add__(self, other):\n",
    "        return Complex(self.re + other.re, self.im + other.im)\n",
    "    \n",
    "    def __sub__(self, other):\n",
    "        return Complex(self.re - other.re, self.im - other.im)\n",
    "    \n",
    "    def __mul__(self, other):\n",
    "        return Complex(self.re * other.re - self.im * other.im, self.im * other.re + self.re * other.im)\n",
    "    \n",
    "    def __neg__(self):\n",
    "        return Complex(self.re, (-1)*self.im)\n",
    "                       \n",
    "    def __abs__(self):\n",
    "        return ((self.re * self.re + self.im * self.im)**(1/2))"
   ]
  },
  {
   "cell_type": "code",
   "execution_count": 60,
   "metadata": {},
   "outputs": [
    {
     "name": "stdout",
     "output_type": "stream",
     "text": [
      "True\n",
      "False\n",
      "9 3\n",
      "16 15\n",
      "3.605551275463989\n"
     ]
    }
   ],
   "source": [
    "a = Complex(3,2)\n",
    "b = Complex(3,2)\n",
    "c = Complex(6,1)\n",
    "\n",
    "d = (a == b)\n",
    "print(d)\n",
    "d = (a == c)\n",
    "print(d)\n",
    "d = a + c\n",
    "print(d.re, d.im)\n",
    "d = a * c\n",
    "print(d.re, d.im)\n",
    "print(abs(a))"
   ]
  },
  {
   "cell_type": "markdown",
   "metadata": {},
   "source": [
    "# Задача 2\n",
    "\n",
    "Реализуйте свой класс 2-мерных векторов (похожа на задачу 1):\n",
    "- 1. Добавьте конструктор класса\n",
    "- 2. Реализуйте операции проверки на равенство векторов, сложения , вычитания, произведение вектора на число.\n",
    "- 3. Реализуйте операцию модуля (abs, вызываемую как |c|)\n",
    "- 4. Оба класса должны давать осмысленный вывод как при print, так и просто при вызове в ячейке"
   ]
  },
  {
   "cell_type": "code",
   "execution_count": 61,
   "metadata": {},
   "outputs": [],
   "source": [
    "class Vector():\n",
    "    \n",
    "    def __init__(self, x = 0, y = 0):\n",
    "        self.x = x\n",
    "        self.y = y\n",
    "    \n",
    "    def __add__(self, other):\n",
    "        return Vector(self.x + other.x, self.y + other.y)\n",
    "    \n",
    "    def __sub__(self, other):\n",
    "        return Vector(self.x - other.x, self.y - other.y)\n",
    "    \n",
    "    def __mul__(self, k):\n",
    "        return Vector(self.x * k, self.y * k)\n",
    "    \n",
    "    def __abs__(self):\n",
    "        return ((self.x * self.x + self.y * self.y)**(1/2))\n",
    "    "
   ]
  },
  {
   "cell_type": "code",
   "execution_count": 65,
   "metadata": {},
   "outputs": [
    {
     "name": "stdout",
     "output_type": "stream",
     "text": [
      "4 6\n",
      "6 8\n",
      "2 2\n",
      "5.0\n"
     ]
    }
   ],
   "source": [
    "a = Vector (3,4)\n",
    "b = Vector (1,2)\n",
    "c = a + b\n",
    "print(c.x, c.y)\n",
    "c = a * 2\n",
    "print(c.x, c.y)\n",
    "c = a - b\n",
    "print(c.x, c.y)\n",
    "r = abs(a)\n",
    "print(r)"
   ]
  },
  {
   "cell_type": "markdown",
   "metadata": {},
   "source": [
    "# Задача 3\n",
    "\n",
    "Аналогично задаче 2 написать класс 3хмерных векторов."
   ]
  },
  {
   "cell_type": "code",
   "execution_count": 63,
   "metadata": {},
   "outputs": [],
   "source": [
    "class Vector():\n",
    "    \n",
    "    def __init__(self, x = 0, y = 0, z = 0):\n",
    "        self.x = x\n",
    "        self.y = y\n",
    "        self.z = z\n",
    "    \n",
    "    def __add__(self, other):\n",
    "        return Vector(self.x + other.x, self.y + other.y, self.z + other.z)\n",
    "    \n",
    "    def __sub__(self, other):\n",
    "        return Vector(self.x - other.x, self.y - other.y, self.z - other.z)\n",
    "    \n",
    "    def __mul__(self, k):\n",
    "        return Vector(self.x * k, self.y * k, self.z * k)\n",
    "    \n",
    "    def __abs__(self):\n",
    "        return ((self.x * self.x + self.y * self.y + self.z * self.z)**(1/2))"
   ]
  },
  {
   "cell_type": "code",
   "execution_count": 70,
   "metadata": {},
   "outputs": [
    {
     "name": "stdout",
     "output_type": "stream",
     "text": [
      "9 10 16\n",
      "16 16 32\n",
      "7 6 16\n",
      "19.595917942265423\n"
     ]
    }
   ],
   "source": [
    "a = Vector (8,8,16)\n",
    "b = Vector (1,2,0)\n",
    "c = a + b\n",
    "print(c.x, c.y, c.z)\n",
    "c = a * 2\n",
    "print(c.x, c.y, c.z)\n",
    "c = a - b\n",
    "print(c.x, c.y, c.z)\n",
    "r = abs(a)\n",
    "print(r)"
   ]
  },
  {
   "cell_type": "markdown",
   "metadata": {},
   "source": [
    "# Задача 4\n",
    "\n",
    "Аналогично задачам 2 и 3 написать класс N-мерных (n вводится при создании экземпляра класса) векторов."
   ]
  },
  {
   "cell_type": "code",
   "execution_count": 115,
   "metadata": {},
   "outputs": [],
   "source": [
    "class VectorND():\n",
    "    \n",
    "    def __init__(self, *coord):\n",
    "        assert(len(coord) != 0)\n",
    "        self.__coords = list()\n",
    "        for i in coord:\n",
    "            self.__coords.append(i)\n",
    "            \n",
    "    def __len__(self):\n",
    "            return(len(self.__coords))\n",
    "            \n",
    "    def __add__(self, other):\n",
    "        assert(len(self) == len(other))\n",
    "        result = list()\n",
    "        for i in range(len(self.__coords)):\n",
    "            result.append(self.__coords[i] + other.__coords[i])\n",
    "        return VectorND(*result)\n",
    "        \n",
    "    def __sub__(self, other):\n",
    "        assert(len(self) == len(other))\n",
    "        result = list()\n",
    "        for i in range(len(self.__coords)):\n",
    "            result.append(self.__coords[i] - other.__coords[i])\n",
    "        return VectorND(*result)\n",
    "    \n",
    "    def __mul__(self,a:float):\n",
    "        for i in range(len(self.__coords)):\n",
    "            self.__coords[i] = self.__coords[i] * a\n",
    "        return VectorND(*self.__coords)\n",
    "        \n",
    "    \n",
    "    def __abs__(self):\n",
    "        for i in range(len(self.__coords)):\n",
    "            result = (result + self.__coords[i] * self.__coords[i])**(1/2)\n",
    "        return result\n",
    "    \n",
    "    def __str__(self):\n",
    "        return(' '.join(map(str,self.__coords)))\n",
    "    \n",
    "    def __print__(self):\n",
    "        print(self.__coords)"
   ]
  },
  {
   "cell_type": "code",
   "execution_count": 117,
   "metadata": {},
   "outputs": [
    {
     "name": "stdout",
     "output_type": "stream",
     "text": [
      "2 2 2 2\n",
      "1 1 1 1\n"
     ]
    }
   ],
   "source": [
    "a = VectorND(1,1,1,1)\n",
    "c = a + a\n",
    "print(c)\n",
    "d = c - a\n",
    "print(d)\n",
    "\n"
   ]
  },
  {
   "cell_type": "markdown",
   "metadata": {},
   "source": [
    "# Задача 5 =  задача 2 из лабы про ООП\n",
    "\n",
    "Вам на вход приходит последовательность целых чисел. Вам надо обрабатывать ее следующим образом: выводить на экран сумму первых пяти чисел этой последовательности, затем следующих 5 итд\n",
    "\n",
    "Но последовательность не дается вам сразу целиком. С течением времени к вам поступают её последовательные части. Например, сначала первые три элемента, потом следующие шесть, потом следующие два и т. д.\n",
    "\n",
    "Реализуйте класс Buffer, который будет накапливать в себе элементы последовательности и выводить сумму пятерок последовательных элементов по мере их накопления.\n",
    "\n",
    "Одним из требований к классу является то, что он не должен хранить в себе больше элементов, чем ему действительно необходимо, т. е. он не должен хранить элементы, которые уже вошли в пятерку, для которой была выведена сумма.\n",
    "\n",
    "Класс должен иметь следующий вид"
   ]
  },
  {
   "cell_type": "code",
   "execution_count": 23,
   "metadata": {},
   "outputs": [],
   "source": [
    "class Buffer:\n",
    "    def __init__(self):\n",
    "        self.luggage = []\n",
    "\n",
    "    def add(self, *a):\n",
    "        blank_space = 5 - len(self.luggage)\n",
    "        if blank_space >= len(a):\n",
    "            self.luggage += list(a)\n",
    "        else:\n",
    "            self.luggage += list(a[:blank_space])\n",
    "            print(self.luggage[0], '+',self.luggage[1], '+',self.luggage[2], '+',self.luggage[3], '+',self.luggage[4], '=', sum(self.luggage))\n",
    "            self.luggage = []\n",
    "            self.add(*a[blank_space:])\n",
    "\n",
    "    def get_current_part(self):\n",
    "        print(self.luggage)"
   ]
  },
  {
   "cell_type": "code",
   "execution_count": 24,
   "metadata": {},
   "outputs": [
    {
     "name": "stdout",
     "output_type": "stream",
     "text": [
      "1 + 2 + 3 + 45 + 53 = 104\n",
      "[27]\n"
     ]
    }
   ],
   "source": [
    "a = Buffer()\n",
    "\n",
    "a.add(1, 2,3)\n",
    "a.add(45, 53,27)\n",
    "\n",
    "a.get_current_part()\n"
   ]
  },
  {
   "cell_type": "markdown",
   "metadata": {},
   "source": [
    "# Задача 6 = задача 3 из лабы про ООП\n",
    "\n",
    "Создайте правильные цепочки наследования классов для: Животное, собака, щенок, самолет, компьютер, имеющее лапы, летающее, орел, белка-летяга, разумное, человек, медуза, одуванчик.\n",
    "В эти классы добавьте конструкторы, а также методы для следующих действий (где надо): полаять, родить, сложить два числа, ужалить, подумать, взлететь, пустить корни, поесть, взять, а также следующие поля: возраст, латинское название (или модель). Прокомментируйте вашу логику"
   ]
  },
  {
   "cell_type": "code",
   "execution_count": 1,
   "metadata": {},
   "outputs": [],
   "source": [
    "# считаем, что возраст есть у любой вещи или создания, т.е. количество времени, прошедшее с момента его появления\n",
    "# латинское название тоже есть у чего угодно. будем использовать переводчик на латынь\n",
    "\n",
    "# наши животные живут в мире победившего партеногенеза\n",
    "class Zhvotne:\n",
    "    def __init__(self, vozr):\n",
    "        self.vozr = vozr\n",
    "        self.latin = 'animalis'\n",
    "    \n",
    "    def rodit(self):\n",
    "        print('я родиль')\n",
    "    \n",
    "    def poest(self):\n",
    "        print('хрум-хрум')\n",
    "        \n",
    "# лапы есть не только у животных, а еще, например, у мостика для скрипки\n",
    "class EstLapi:\n",
    "    pass\n",
    "\n",
    "# не любое разумное создание может сложить два числа\n",
    "# но все разумное может думать\n",
    "class Rasumnoe(Zhvotne):\n",
    "    def podumat(self):\n",
    "        print('не съел, подумол')\n",
    "\n",
    "# собаки все понимают, только сказать не могут\n",
    "class Sobaka(EstLapi, Rasumnoe):\n",
    "    def __init__(self, vozr):\n",
    "        super().__init__(vozr)\n",
    "        self.latin = 'canis'\n",
    "        \n",
    "    def layat(self):\n",
    "        print('гав-гав-гав')\n",
    "        \n",
    "    # считаем, что \"взять\" -- это команда, которую может исполнять только собака\n",
    "    def vzyat(self):\n",
    "        print('я хороший мальчик')\n",
    "    \n",
    "class Schenok(Sobaka):\n",
    "    def __init__(self, vozr):\n",
    "        super().__init__(vozr)\n",
    "        self.latin = 'catulum'\n",
    "        \n",
    "class Letaet:        \n",
    "    def vzletat(self):\n",
    "        print('fshshshshshshs')\n",
    "\n",
    "class Samolet(Letaet):\n",
    "    def __init__(self, vozr):\n",
    "        self.vozr = vozr\n",
    "        self.latin = 'planum'\n",
    "\n",
    "class Computer:\n",
    "    def __init__(self, vozr):\n",
    "        self.vozr = vozr\n",
    "        self.latin = 'computatrum'\n",
    "        \n",
    "    def slozhit(self, a, b):\n",
    "        print(a + b)\n",
    "\n",
    "\n",
    "class Orel(Zhvotne, Letaet):\n",
    "    def __init__(self, vozr):\n",
    "        super().__init__(vozr)\n",
    "        self.latin = 'aquila'\n",
    "        \n",
    "# считаю, что парит = летает\n",
    "class BelkaLetyaga(Zhvotne, Letaet, EstLapi):\n",
    "    def __init__(self, vozr):\n",
    "        super().__init__(vozr)\n",
    "        self.latin = 'pteromyini'\n",
    "\n",
    "# считаем левую руку человека лапой\n",
    "# человек разумный, но не всегда может сложить два числа (посмотрите на мои контрольные по матану)\n",
    "# человек может пустить корни\n",
    "class Chelovek(Rasumnoe, EstLapi):\n",
    "    def __init__(self, vozr):\n",
    "        self.vozr = vozr\n",
    "        self.latin = 'homo'\n",
    "        \n",
    "    def pustit_korni(self):\n",
    "        print('я взяла ипотеку')\n",
    "\n",
    "class Meduza(Zhvotne):\n",
    "    def __init__(self, vozr):\n",
    "        super().__init__(vozr)\n",
    "        self.latin = 'jellyfish'\n",
    "        \n",
    "    def uzhalit(self):\n",
    "        print('жалящее молчание')\n",
    "\n",
    "# может пустить корни        \n",
    "class Oduvan:\n",
    "    def __init__(self, vozr):\n",
    "        self.vozr = vozr\n",
    "        self.latin = 'taraxacum'\n",
    "        \n",
    "    def pustit_korni(self):\n",
    "        print('хрхрхрхрхр')"
   ]
  },
  {
   "cell_type": "markdown",
   "metadata": {},
   "source": [
    "проверим, что все работает:"
   ]
  },
  {
   "cell_type": "code",
   "execution_count": 3,
   "metadata": {},
   "outputs": [
    {
     "name": "stdout",
     "output_type": "stream",
     "text": [
      "fshshshshshshs\n",
      "3\n",
      "хрум-хрум\n",
      "я родиль\n",
      "хрхрхрхрхр\n",
      "я взяла ипотеку\n",
      "taraxacum\n"
     ]
    }
   ],
   "source": [
    "yasnyi_vzor = Orel(3)\n",
    "yasnyi_vzor.vzletat()\n",
    "print(yasnyi_vzor.vozr)\n",
    "\n",
    "yasnyi_vzor.poest()\n",
    "yasnyi_vzor.rodit()\n",
    "\n",
    "dafna = Oduvan(0)\n",
    "melissa = Chelovek(25)\n",
    "dafna.pustit_korni()\n",
    "melissa.pustit_korni()\n",
    "print(dafna.latin)"
   ]
  },
  {
   "cell_type": "markdown",
   "metadata": {},
   "source": [
    "# Задача 7\n",
    "\n",
    "\n",
    "Добавить в ДЗ5 методы атаки персонажей. Продемонстрировать, что при атаке первого персонажа, у 2ого отнимается здоровье, а у первого расходуется мана или накапливается усталость.\n",
    "\n",
    "Добавить в ДЗ5 методы дебафа. Чтобы персонажи могли замедлять скорость перемещения друг друга. (например, если дефолтное скорость персонажа 2 м/с или 2 клетки за шаг, то после дебафа - 1м/с или 1 клетка за шаг). Помните, что дебаф действует некоторое время (несколько секунд или несколько шагов - зависит от концепции вашей игры (пошаговая стратегия или онлайн)\n"
   ]
  },
  {
   "cell_type": "markdown",
   "metadata": {},
   "source": [
    "Добавим код из ДЗ5"
   ]
  },
  {
   "cell_type": "code",
   "execution_count": 2,
   "metadata": {},
   "outputs": [],
   "source": [
    "import random\n",
    " \n",
    "class student:\n",
    " \n",
    "    def __init__(self, name): # начальный уровень\n",
    "        self.name = name\n",
    "        self.bot = 20                  # ресурсы\n",
    "        self.energy = 100              \n",
    "        self.money = 1000\n",
    "        self.coffee = 0\n",
    "        self.mood = 20\n",
    "        self.time = 0                  # счетчик ходов. после 20 ходов проверяем, повысился ли уровень               \n",
    "        self.level = 1                 # счетчик уровня\n",
    "        self.party = False             # флажок замедления -- наличие вечеринки в комнате, которая мешает спать\n",
    " \n",
    " \n",
    "    def hell_where_i_am(self):             # функция показывает текущее состояние ресурсов\n",
    "        print(self.name)\n",
    "        print(\"bot: \", self.bot)\n",
    "        print(\"energy: \", self.energy)\n",
    "        print(\"money: \", self.money)\n",
    "        print(\"coffee: \", self.coffee)\n",
    "        print(\"mood: \", self.mood)\n",
    "        print(\"level: \", self.level)\n",
    "        print(\"party: \", self.party, '\\n')\n",
    " \n",
    " \n",
    "    def otchisleno(self):\n",
    "        if (self.bot > 0 and self.energy > 0 and self.money > 0 and self.coffee >= 0 and self.mood > 0):   # если ресурсов мало, вы отчислены\n",
    "            print(\"сегодня вас не отчислили...\")\n",
    "        else:\n",
    "            print(\"очень жаль, вы были отчислены. попробуйте перепоступить?\")\n",
    "        self.time += 1 # так как вызываем функцию \"отчислено\" в конце любого действия, сюда удобно поместить счетчик действий\n",
    "        if (self.time %5) == 0:\n",
    "            self.party = False                # у вечеринки будет не фиксированная длительность, а до ближайшей кратности хода. вечеринки бывают разные\n",
    "        if self.time == 10:                      # через 20 дней подводим итоги, смотрим, повысился ли уровень\n",
    "            self.time -= 10                      # сбрасываем счетчик\n",
    "            if (self.bot >= 40* self.level):    # если хорошо поботали, повышаем уровень\n",
    "                self.level += 1\n",
    "                print('Вы повысили свой уровень. Теперь ваш уровень: ', self.level)\n",
    "        self.hell_where_i_am()\n",
    " \n",
    "    def shout_halyava(self):                # \"крикнуть халява\" -- влияет на успеваемость произвольным образом\n",
    "        self.energy -= 3\n",
    "        self.mood += 3\n",
    "        val = int(random.random() * 10 - 4)\n",
    "        self.bot += val\n",
    "        self.otchisleno()\n",
    " \n",
    " \n",
    "    def buy_coffee(self):      # конвертация денег в кофе\n",
    "        self.money -= 20\n",
    "        self.coffee += 1\n",
    "        self.otchisleno()\n",
    " \n",
    " \n",
    "    def work_hard(self):       # конвертация энергии(сна) в деньги\n",
    "        self.energy -= 20\n",
    "        self.money += 150\n",
    "        self.mood -= 10\n",
    "        self.otchisleno()\n",
    " \n",
    " \n",
    "    def sleep(self):           # конвертация бота в энергию (сон)\n",
    "        self.bot -= 7\n",
    "        if self.party == True:\n",
    "            self.energy += 20\n",
    "        else:\n",
    "            self.energy += 10\n",
    "        self.otchisleno()\n",
    " \n",
    " \n",
    "    def botay_hard(self, coffee=0):        # конвертирует настроение и энергию в бот. можно улучшить качество бота с помощью кофе, но если выпить слишком много...\n",
    "        self.bot += int(20 * (1 + 0.6 * coffee))\n",
    "        self.mood += -5 + 2 * coffee\n",
    "        self.energy -= 15\n",
    "        self.coffee -= coffee\n",
    "        if (coffee >= 5):\n",
    "            print(\"Передозировка кофеином: вы слегли в больничку. Платите деняк...\")\n",
    "            self.money -= 200\n",
    "            self.mood -= 10\n",
    "        self.otchisleno()\n",
    "        \n",
    "    \n",
    "    def drink_beer_with_friends(self):\n",
    "        self.money -= 80\n",
    "        self.mood += 20\n",
    "        self.energy += 10\n",
    "        self.otchisleno()\n",
    "        \n",
    "    def offer_spoiled_vodka(self, other):\n",
    "        self.bot -= 7\n",
    "        self.money -= 60\n",
    "        self.mood += 7\n",
    "        other.energy -= 30\n",
    "        other.bot -= 15\n",
    "        other.mood -= 15\n",
    "        \n",
    "    def start_a_party(self, other):\n",
    "        other.party = True\n",
    "        \n",
    "        "
   ]
  },
  {
   "cell_type": "code",
   "execution_count": 3,
   "metadata": {},
   "outputs": [
    {
     "name": "stdout",
     "output_type": "stream",
     "text": [
      "anna\n",
      "bot:  20\n",
      "energy:  100\n",
      "money:  1000\n",
      "coffee:  0\n",
      "mood:  20\n",
      "level:  1\n",
      "party:  False \n",
      "\n",
      "nicolaev\n",
      "bot:  20\n",
      "energy:  100\n",
      "money:  1000\n",
      "coffee:  0\n",
      "mood:  20\n",
      "level:  1\n",
      "party:  False \n",
      "\n",
      "anna\n",
      "bot:  13\n",
      "energy:  100\n",
      "money:  940\n",
      "coffee:  0\n",
      "mood:  27\n",
      "level:  1\n",
      "party:  False \n",
      "\n",
      "nicolaev\n",
      "bot:  5\n",
      "energy:  70\n",
      "money:  1000\n",
      "coffee:  0\n",
      "mood:  5\n",
      "level:  1\n",
      "party:  False \n",
      "\n"
     ]
    }
   ],
   "source": [
    "anna = student('anna')\n",
    "anna.hell_where_i_am()\n",
    "nicolaev = student('nicolaev')\n",
    "nicolaev.hell_where_i_am()\n",
    "\n",
    "anna.offer_spoiled_vodka(nicolaev)\n",
    "anna.hell_where_i_am()\n",
    "nicolaev.hell_where_i_am()"
   ]
  },
  {
   "cell_type": "markdown",
   "metadata": {},
   "source": [
    "видим, что после приема паленой водки николаеву поплохело. а у анны стало меньше денег. она решила воспользоваться моментом и устроить вечеринку."
   ]
  },
  {
   "cell_type": "code",
   "execution_count": 4,
   "metadata": {},
   "outputs": [
    {
     "name": "stdout",
     "output_type": "stream",
     "text": [
      "очень жаль, вы были отчислены. попробуйте перепоступить?\n",
      "nicolaev\n",
      "bot:  -2\n",
      "energy:  80\n",
      "money:  1000\n",
      "coffee:  0\n",
      "mood:  5\n",
      "level:  1\n",
      "party:  False \n",
      "\n",
      "nicolaev\n",
      "bot:  -2\n",
      "energy:  80\n",
      "money:  1000\n",
      "coffee:  0\n",
      "mood:  5\n",
      "level:  1\n",
      "party:  False \n",
      "\n"
     ]
    }
   ],
   "source": [
    "nicolaev.sleep()"
   ]
  },
  {
   "cell_type": "markdown",
   "metadata": {},
   "source": [
    "видим, что из-за тусы энергия николаева повысилась всего на 10. ура, он отчислен!"
   ]
  },
  {
   "cell_type": "markdown",
   "metadata": {},
   "source": [
    "# Задача 8 (Генетический алгоритм)\n",
    "\n",
    "Создать класс клетки с данными ДНК - последовательность символов. Клетка должна уметь делиться (написать метод класса). Реализовать процесс деления так, чтобы он отражал биологический процесс. Как делать - решать вам."
   ]
  },
  {
   "cell_type": "code",
   "execution_count": 184,
   "metadata": {},
   "outputs": [],
   "source": [
    "import numpy as np\n",
    "import random\n",
    "\n",
    "class DNA:\n",
    "    def __init__(self):\n",
    "        self.len = int(np.random.rand() * 20) # определяем длину днки\n",
    "        self.order1 = []   # первая цепь днк\n",
    "        self.order2 = []   # вторая цепь днк\n",
    "        for i in range (self.len):\n",
    "            self.order1.append(random.choice(['A', 'T', 'G', 'C']))  #произвольно генерируем первую цепь днк\n",
    "\n",
    "            if self.order1[i] == 'A':       # однозначно заполняем комплементарную (вторую) цепь днк \n",
    "                self.order2.append('T')\n",
    "            if self.order1[i] == 'T':\n",
    "                self.order2.append('A')\n",
    "            if self.order1[i] == 'G':\n",
    "                self.order2.append('C')\n",
    "            if self.order1[i] == 'C':\n",
    "                self.order2.append('G')\n",
    "    \n",
    "    def print_beautiful(self):\n",
    "        for i in (self.order1):\n",
    "            print(i, end='') \n",
    "        print('\\n')\n",
    "        for i in (self.order2):\n",
    "            print(i, end='')\n",
    "        print('\\n')\n",
    "        \n",
    "    def copy_dna(self):\n",
    "        other = DNA()\n",
    "        other.len = self.len\n",
    "        other.order1 = list(self.order1)\n",
    "        other.order2 = list(self.order2)\n",
    "            \n",
    "            \n",
    "            # внимание, следующее условие закомментировано для простоты демонстрации программы\n",
    "           # if int(np.random.rand() * 5) % 5 == 1:  #считаем, что в 20% случаев обстоятельства таковы, что днк мутирует\n",
    "           #     other.mutate()\n",
    "           # вместо условия просто поставим выполнение функции, а также напечатаем мутировавший геном для наглядности\n",
    "        other.mutate\n",
    "        return(other)\n",
    "                \n",
    "        # функция мутации. для простоты будем рассматривать только однонуклеотидные мутации, разрывы цепей и ложные сшивки отбросим   \n",
    "    def mutate(self):                \n",
    "        for i in range(5):\n",
    "            mutated = int((np.random.rand() * 10)) % self.len     # будем выбирать 5 произвольных нуклеотидов\n",
    "            self.order1[mutated] = random.choice(['A', 'T', 'G', 'C'])  # в которых произвольным образом произойдет мутация\n",
    "        for i in range(5):\n",
    "            mutated = int((np.random.rand() * 10)) % self.len    # и в комплементарной цепи тоже 5, возможно других\n",
    "            self.order2[mutated] = random.choice(['A', 'T', 'G', 'C'])\n",
    "\n",
    "            # этот цикл -- проверка на комплементарность. есть пара оснований в цепочках комплементарна, будем считать, что фермент хеликаза не заметит мутации\n",
    "            # если же основания не комплементарны, то ДНК-аза и ДНК-полимераза произведут замену одного из нуклеотидов \n",
    "            # реализуем полимеразную модель мутагенеза:\n",
    "            # \"Известно А-правило (A-rule), согласно которому напротив поврежденных участков ДНК-полимераза чаще всего встраивает аденины.\"\"\n",
    "            # для упрощения будем в спорных некомплементарных случаях выбирать пару оснований аденин-тимин как результат корректировки\n",
    "        for i in self.len:             \n",
    "            if self.order1[i] == 'A':  \n",
    "                self.order2[i] = 'T'\n",
    "            if self.order1[i] == 'T' and self.order2[i] != 'A':      \n",
    "                self.order2[i] = 'A'\n",
    "            if self.order1[i] == 'G':\n",
    "                self.order2.append('C')\n",
    "            if self.order1[i] == 'C':\n",
    "                self.order2.append('G')\n",
    "            \n",
    "\n",
    "class Cell:\n",
    "    def __init__(self):\n",
    "        self.dna = DNA()\n",
    "       # тут можно еще было повозиться с вводом днк некоторых клеток с клавиатуры, но обойдемся без этого, ведь для нас важнее увидеть реализацию биологического деления\n",
    "    \n",
    "    # деление клетки состоит в создании новой клетки с такой же (или мутировавшей днк)\n",
    "    def copy_cell(self):\n",
    "        other = Cell()\n",
    "        s = self.dna \n",
    "        s.copy_dna\n",
    "        other.dna = s\n",
    "        return(other)    "
   ]
  },
  {
   "cell_type": "code",
   "execution_count": 191,
   "metadata": {},
   "outputs": [
    {
     "ename": "AttributeError",
     "evalue": "type object 'Cell' has no attribute 'dna'",
     "output_type": "error",
     "traceback": [
      "\u001b[1;31m---------------------------------------------------------------------------\u001b[0m",
      "\u001b[1;31mAttributeError\u001b[0m                            Traceback (most recent call last)",
      "\u001b[1;32m<ipython-input-191-3f0bdb06d821>\u001b[0m in \u001b[0;36m<module>\u001b[1;34m\u001b[0m\n\u001b[0;32m      1\u001b[0m \u001b[0ma\u001b[0m \u001b[1;33m=\u001b[0m \u001b[0mCell\u001b[0m\u001b[1;33m\u001b[0m\u001b[1;33m\u001b[0m\u001b[0m\n\u001b[1;32m----> 2\u001b[1;33m \u001b[0ma\u001b[0m\u001b[1;33m.\u001b[0m\u001b[0mdna\u001b[0m\u001b[1;33m.\u001b[0m\u001b[0mprint_beautiful\u001b[0m\u001b[1;33m(\u001b[0m\u001b[1;33m)\u001b[0m\u001b[1;33m\u001b[0m\u001b[1;33m\u001b[0m\u001b[0m\n\u001b[0m\u001b[0;32m      3\u001b[0m \u001b[0mb\u001b[0m \u001b[1;33m=\u001b[0m \u001b[0ma\u001b[0m\u001b[1;33m.\u001b[0m\u001b[0mcopy_cell\u001b[0m\u001b[1;33m(\u001b[0m\u001b[1;33m)\u001b[0m\u001b[1;33m\u001b[0m\u001b[1;33m\u001b[0m\u001b[0m\n\u001b[0;32m      4\u001b[0m \u001b[0ma\u001b[0m\u001b[1;33m.\u001b[0m\u001b[0mprint_beautiful\u001b[0m\u001b[1;33m(\u001b[0m\u001b[1;33m)\u001b[0m\u001b[1;33m\u001b[0m\u001b[1;33m\u001b[0m\u001b[0m\n\u001b[0;32m      5\u001b[0m \u001b[0mb\u001b[0m\u001b[1;33m.\u001b[0m\u001b[0mprint_beautiful\u001b[0m\u001b[1;33m(\u001b[0m\u001b[1;33m)\u001b[0m\u001b[1;33m\u001b[0m\u001b[1;33m\u001b[0m\u001b[0m\n",
      "\u001b[1;31mAttributeError\u001b[0m: type object 'Cell' has no attribute 'dna'"
     ]
    }
   ],
   "source": [
    "a = Cell\n",
    "a.dna.print_beautiful()\n",
    "b = a.copy_cell()\n",
    "a.print_beautiful()\n",
    "b.print_beautiful()\n"
   ]
  },
  {
   "cell_type": "code",
   "execution_count": 187,
   "metadata": {},
   "outputs": [
    {
     "ename": "SyntaxError",
     "evalue": "invalid syntax (<ipython-input-187-c04469af51ae>, line 1)",
     "output_type": "error",
     "traceback": [
      "\u001b[1;36m  File \u001b[1;32m\"<ipython-input-187-c04469af51ae>\"\u001b[1;36m, line \u001b[1;32m1\u001b[0m\n\u001b[1;33m    Пока эта задача у меня до конца не получилась, сколько бы с ней ни сидела. Не понимаю, почему оно не считает leng атрибутом.\u001b[0m\n\u001b[1;37m           ^\u001b[0m\n\u001b[1;31mSyntaxError\u001b[0m\u001b[1;31m:\u001b[0m invalid syntax\n"
     ]
    }
   ],
   "source": [
    "Пока эта задача у меня до конца не получилась, сколько бы с ней ни сидела. Не понимаю, почему оно не считает dna атрибутом."
   ]
  },
  {
   "cell_type": "markdown",
   "metadata": {},
   "source": [
    "Удачи! Дедлайн по ДЗ67 - до след выходных включительно, 27.10.2019 (23:59)\n",
    "Выкладывайте решение на гитхаб, присылайте письмо со ссылкой на почту. Как всегда крч."
   ]
  },
  {
   "cell_type": "code",
   "execution_count": null,
   "metadata": {},
   "outputs": [],
   "source": []
  }
 ],
 "metadata": {
  "kernelspec": {
   "display_name": "Python 3",
   "language": "python",
   "name": "python3"
  },
  "language_info": {
   "codemirror_mode": {
    "name": "ipython",
    "version": 3
   },
   "file_extension": ".py",
   "mimetype": "text/x-python",
   "name": "python",
   "nbconvert_exporter": "python",
   "pygments_lexer": "ipython3",
   "version": "3.7.3"
  }
 },
 "nbformat": 4,
 "nbformat_minor": 2
}

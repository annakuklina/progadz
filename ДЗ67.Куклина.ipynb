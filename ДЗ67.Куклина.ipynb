{
 "cells": [
  {
   "cell_type": "markdown",
   "metadata": {},
   "source": [
    "# Задача 1\n",
    "\n",
    "Реализуйте свой класс Complex для комплексных чисел, аналогично встроенной реализации complex: 1. Добавьте конструктор класса 2. Реализуйте операции проверки на равенство, сложения, вычитания, произведения и деления комплексных чисел (eq, add, sub, mul, truediv) 3. Реализуйте операцию модуля (abs, вызываемую как |c|) 4. Оба класса должны давать осмысленный вывод как при print, так и просто при вызове в ячейке\n",
    "\n",
    "p.s. обязательно использовать магические методы (см лабу)"
   ]
  },
  {
   "cell_type": "code",
   "execution_count": 59,
   "metadata": {},
   "outputs": [],
   "source": [
    "class Complex:\n",
    "    \n",
    "    def __init__(self, x = 0, y = 0):           # конструктор класса\n",
    "        self.re = x                  # действительная часть\n",
    "        self.im = y                 # мнимая часть\n",
    "        \n",
    "    def __eq__(self, other):\n",
    "        if self.re == other.re and self.im == other.im:  # числа равны при совпадающих координатах\n",
    "            return True\n",
    "        else:\n",
    "            return False\n",
    "            \n",
    "    def __add__(self, other):\n",
    "        return Complex(self.re + other.re, self.im + other.im)\n",
    "    \n",
    "    def __sub__(self, other):\n",
    "        return Complex(self.re - other.re, self.im - other.im)\n",
    "    \n",
    "    def __mul__(self, other):\n",
    "        return Complex(self.re * other.re - self.im * other.im, self.im * other.re + self.re * other.im)\n",
    "    \n",
    "    def __neg__(self):\n",
    "        return Complex(self.re, (-1)*self.im)\n",
    "                       \n",
    "    def __abs__(self):\n",
    "        return ((self.re * self.re + self.im * self.im)**(1/2))"
   ]
  },
  {
   "cell_type": "code",
   "execution_count": 60,
   "metadata": {},
   "outputs": [
    {
     "name": "stdout",
     "output_type": "stream",
     "text": [
      "True\n",
      "False\n",
      "9 3\n",
      "16 15\n",
      "3.605551275463989\n"
     ]
    }
   ],
   "source": [
    "a = Complex(3,2)\n",
    "b = Complex(3,2)\n",
    "c = Complex(6,1)\n",
    "\n",
    "d = (a == b)\n",
    "print(d)\n",
    "d = (a == c)\n",
    "print(d)\n",
    "d = a + c\n",
    "print(d.re, d.im)\n",
    "d = a * c\n",
    "print(d.re, d.im)\n",
    "print(abs(a))"
   ]
  },
  {
   "cell_type": "markdown",
   "metadata": {},
   "source": [
    "# Задача 2\n",
    "\n",
    "Реализуйте свой класс 2-мерных векторов (похожа на задачу 1):\n",
    "- 1. Добавьте конструктор класса\n",
    "- 2. Реализуйте операции проверки на равенство векторов, сложения , вычитания, произведение вектора на число.\n",
    "- 3. Реализуйте операцию модуля (abs, вызываемую как |c|)\n",
    "- 4. Оба класса должны давать осмысленный вывод как при print, так и просто при вызове в ячейке"
   ]
  },
  {
   "cell_type": "code",
   "execution_count": 61,
   "metadata": {},
   "outputs": [],
   "source": [
    "class Vector():\n",
    "    \n",
    "    def __init__(self, x = 0, y = 0):\n",
    "        self.x = x\n",
    "        self.y = y\n",
    "    \n",
    "    def __add__(self, other):\n",
    "        return Vector(self.x + other.x, self.y + other.y)\n",
    "    \n",
    "    def __sub__(self, other):\n",
    "        return Vector(self.x - other.x, self.y - other.y)\n",
    "    \n",
    "    def __mul__(self, k):\n",
    "        return Vector(self.x * k, self.y * k)\n",
    "    \n",
    "    def __abs__(self):\n",
    "        return ((self.x * self.x + self.y * self.y)**(1/2))\n",
    "    "
   ]
  },
  {
   "cell_type": "code",
   "execution_count": 65,
   "metadata": {},
   "outputs": [
    {
     "name": "stdout",
     "output_type": "stream",
     "text": [
      "4 6\n",
      "6 8\n",
      "2 2\n",
      "5.0\n"
     ]
    }
   ],
   "source": [
    "a = Vector (3,4)\n",
    "b = Vector (1,2)\n",
    "c = a + b\n",
    "print(c.x, c.y)\n",
    "c = a * 2\n",
    "print(c.x, c.y)\n",
    "c = a - b\n",
    "print(c.x, c.y)\n",
    "r = abs(a)\n",
    "print(r)"
   ]
  },
  {
   "cell_type": "markdown",
   "metadata": {},
   "source": [
    "# Задача 3\n",
    "\n",
    "Аналогично задаче 2 написать класс 3хмерных векторов."
   ]
  },
  {
   "cell_type": "code",
   "execution_count": 63,
   "metadata": {},
   "outputs": [],
   "source": [
    "class Vector():\n",
    "    \n",
    "    def __init__(self, x = 0, y = 0, z = 0):\n",
    "        self.x = x\n",
    "        self.y = y\n",
    "        self.z = z\n",
    "    \n",
    "    def __add__(self, other):\n",
    "        return Vector(self.x + other.x, self.y + other.y, self.z + other.z)\n",
    "    \n",
    "    def __sub__(self, other):\n",
    "        return Vector(self.x - other.x, self.y - other.y, self.z - other.z)\n",
    "    \n",
    "    def __mul__(self, k):\n",
    "        return Vector(self.x * k, self.y * k, self.z * k)\n",
    "    \n",
    "    def __abs__(self):\n",
    "        return ((self.x * self.x + self.y * self.y + self.z * self.z)**(1/2))"
   ]
  },
  {
   "cell_type": "code",
   "execution_count": 70,
   "metadata": {},
   "outputs": [
    {
     "name": "stdout",
     "output_type": "stream",
     "text": [
      "9 10 16\n",
      "16 16 32\n",
      "7 6 16\n",
      "19.595917942265423\n"
     ]
    }
   ],
   "source": [
    "a = Vector (8,8,16)\n",
    "b = Vector (1,2,0)\n",
    "c = a + b\n",
    "print(c.x, c.y, c.z)\n",
    "c = a * 2\n",
    "print(c.x, c.y, c.z)\n",
    "c = a - b\n",
    "print(c.x, c.y, c.z)\n",
    "r = abs(a)\n",
    "print(r)"
   ]
  },
  {
   "cell_type": "markdown",
   "metadata": {},
   "source": [
    "# Задача 4\n",
    "\n",
    "Аналогично задачам 2 и 3 написать класс N-мерных (n вводится при создании экземпляра класса) векторов."
   ]
  },
  {
   "cell_type": "code",
   "execution_count": 115,
   "metadata": {},
   "outputs": [],
   "source": [
    "class VectorND():\n",
    "    \n",
    "    def __init__(self, *coord):\n",
    "        assert(len(coord) != 0)\n",
    "        self.__coords = list()\n",
    "        for i in coord:\n",
    "            self.__coords.append(i)\n",
    "            \n",
    "    def __len__(self):\n",
    "            return(len(self.__coords))\n",
    "            \n",
    "    def __add__(self, other):\n",
    "        assert(len(self) == len(other))\n",
    "        result = list()\n",
    "        for i in range(len(self.__coords)):\n",
    "            result.append(self.__coords[i] + other.__coords[i])\n",
    "        return VectorND(*result)\n",
    "        \n",
    "    def __sub__(self, other):\n",
    "        assert(len(self) == len(other))\n",
    "        result = list()\n",
    "        for i in range(len(self.__coords)):\n",
    "            result.append(self.__coords[i] - other.__coords[i])\n",
    "        return VectorND(*result)\n",
    "    \n",
    "    def __mul__(self,a:float):\n",
    "        for i in range(len(self.__coords)):\n",
    "            self.__coords[i] = self.__coords[i] * a\n",
    "        return VectorND(*self.__coords)\n",
    "        \n",
    "    \n",
    "    def __abs__(self):\n",
    "        for i in range(len(self.__coords)):\n",
    "            result = (result + self.__coords[i] * self.__coords[i])**(1/2)\n",
    "        return result\n",
    "    \n",
    "    def __str__(self):\n",
    "        return(' '.join(map(str,self.__coords)))\n",
    "    \n",
    "    def __print__(self):\n",
    "        print(self.__coords)"
   ]
  },
  {
   "cell_type": "code",
   "execution_count": 117,
   "metadata": {},
   "outputs": [
    {
     "name": "stdout",
     "output_type": "stream",
     "text": [
      "2 2 2 2\n",
      "1 1 1 1\n"
     ]
    }
   ],
   "source": [
    "a = VectorND(1,1,1,1)\n",
    "c = a + a\n",
    "print(c)\n",
    "d = c - a\n",
    "print(d)\n",
    "\n"
   ]
  },
  {
   "cell_type": "markdown",
   "metadata": {},
   "source": [
    "# Задача 5 =  задача 2 из лабы про ООП\n",
    "\n",
    "Вам на вход приходит последовательность целых чисел. Вам надо обрабатывать ее следующим образом: выводить на экран сумму первых пяти чисел этой последовательности, затем следующих 5 итд\n",
    "\n",
    "Но последовательность не дается вам сразу целиком. С течением времени к вам поступают её последовательные части. Например, сначала первые три элемента, потом следующие шесть, потом следующие два и т. д.\n",
    "\n",
    "Реализуйте класс Buffer, который будет накапливать в себе элементы последовательности и выводить сумму пятерок последовательных элементов по мере их накопления.\n",
    "\n",
    "Одним из требований к классу является то, что он не должен хранить в себе больше элементов, чем ему действительно необходимо, т. е. он не должен хранить элементы, которые уже вошли в пятерку, для которой была выведена сумма.\n",
    "\n",
    "Класс должен иметь следующий вид"
   ]
  },
  {
   "cell_type": "code",
   "execution_count": 3,
   "metadata": {},
   "outputs": [],
   "source": [
    "class Buffer:\n",
    "    def __init__(self):\n",
    "        # конструктор без аргументов\n",
    "        pass\n",
    "\n",
    "    def add(self, *a):\n",
    "        # добавить следующую часть последовательности\n",
    "        pass\n",
    "\n",
    "    def get_current_part(self):\n",
    "        # вернуть сохраненные в текущий момент элементы последовательности в порядке, в котором они были\n",
    "        # добавлены\n",
    "        pass"
   ]
  },
  {
   "cell_type": "markdown",
   "metadata": {},
   "source": [
    "# Задача 6 = задача 3 из лабы про ООП\n",
    "\n",
    "Создайте правильные цепочки наследования классов для: Животное, собака, щенок, самолет, компьютер, имеющее лапы, летающее, орел, белка-летяга, разумное, человек, медуза, одуванчик.\n",
    "В эти классы добавьте конструкторы, а также методы для следующих действий (где надо): полаять, родить, сложить два числа, ужалить, подумать, взлететь, пустить корни, поесть, взять, а также следующие поля: возраст, латинское название (или модель). Прокомментируйте вашу логику"
   ]
  },
  {
   "cell_type": "markdown",
   "metadata": {},
   "source": [
    "   животное(родить, поесть, взять)(возраст)  все животные могут это делать          летающее (взлететь)\n",
    "      |________________________                                              __________|__________________________         \n",
    "      |                       |                                             |                 |                   |\n",
    "  имеющее лапы             медуза(ужалить)    Разумное (сложить числа)      |         одуванчик(пустить корни) самолет \n",
    "      |_________________________________          ____|___                  |           лат название             модель\n",
    "      |            |          |         |        |        |                 |\n",
    "    собака(лаять)белка-летяга |         |________|       компьютер          |\n",
    "      |   (парит, а не летает)|             |                модель         |\n",
    "    щенок(подмножество собак) |            человек(подумать)                |\n",
    "                              |_____________________________________________|\n",
    "                                                   |            \n",
    "                                                 орел  "
   ]
  },
  {
   "cell_type": "markdown",
   "metadata": {},
   "source": [
    "# Задача 7\n",
    "\n",
    "\n",
    "Добавить в ДЗ5 методы атаки персонажей. Продемонстрировать, что при атаке первого персонажа, у 2ого отнимается здоровье, а у первого расходуется мана или накапливается усталость.\n",
    "\n",
    "Добавить в ДЗ5 методы дебафа. Чтобы персонажи могли замедлять скорость перемещения друг друга. (например, если дефолтное скорость персонажа 2 м/с или 2 клетки за шаг, то после дебафа - 1м/с или 1 клетка за шаг). Помните, что дебаф действует некоторое время (несколько секунд или несколько шагов - зависит от концепции вашей игры (пошаговая стратегия или онлайн)\n"
   ]
  },
  {
   "cell_type": "markdown",
   "metadata": {},
   "source": [
    "# Задача 8 (Генетический алгоритм)\n",
    "\n",
    "Создать класс клетки с данными ДНК - последовательность символов. Клетка должна уметь делиться (написать метод класса). Реализовать процесс деления так, чтобы он отражал биологический процесс. Как делать - решать вам."
   ]
  },
  {
   "cell_type": "code",
   "execution_count": null,
   "metadata": {},
   "outputs": [],
   "source": []
  },
  {
   "cell_type": "code",
   "execution_count": null,
   "metadata": {},
   "outputs": [],
   "source": []
  },
  {
   "cell_type": "markdown",
   "metadata": {},
   "source": [
    "Удачи! Дедлайн по ДЗ67 - до след выходных включительно, 27.10.2019 (23:59)\n",
    "Выкладывайте решение на гитхаб, присылайте письмо со ссылкой на почту. Как всегда крч."
   ]
  },
  {
   "cell_type": "code",
   "execution_count": null,
   "metadata": {},
   "outputs": [],
   "source": []
  }
 ],
 "metadata": {
  "kernelspec": {
   "display_name": "Python 3",
   "language": "python",
   "name": "python3"
  },
  "language_info": {
   "codemirror_mode": {
    "name": "ipython",
    "version": 3
   },
   "file_extension": ".py",
   "mimetype": "text/x-python",
   "name": "python",
   "nbconvert_exporter": "python",
   "pygments_lexer": "ipython3",
   "version": "3.7.3"
  }
 },
 "nbformat": 4,
 "nbformat_minor": 2
}
